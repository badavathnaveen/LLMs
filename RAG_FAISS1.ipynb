{
 "cells": [
  {
   "cell_type": "code",
   "execution_count": 7,
   "id": "d80f3cea-d54a-469b-b2ee-526114b12058",
   "metadata": {},
   "outputs": [],
   "source": [
    "from langchain.document_loaders import PyPDFLoader\n",
    "#https://stphilipwestbrook.co.uk/wp-content/uploads/2020/03/Alice-in-Wonderland-Story.pdf\n",
    "loader = PyPDFLoader(\"C:\\\\Users\\\\ankom\\\\Downloads\\\\Millimeter-trhz.pdf\")\n",
    "pdfpages = loader.load_and_split()"
   ]
  },
  {
   "cell_type": "code",
   "execution_count": 8,
   "id": "794d185b-8043-42ea-a1d4-8a72e0cb2e4a",
   "metadata": {},
   "outputs": [],
   "source": [
    "import os\n",
    "os.environ['OPENAI_API_KEY'] = 'sk-proj-KKQl69GJ4mGd9f3yo55ZT3BlbkFJYryd9vsCw6ZPvbH5Vim9'"
   ]
  },
  {
   "cell_type": "code",
   "execution_count": 2,
   "id": "942b4399-286c-4352-8a67-8954500d02df",
   "metadata": {},
   "outputs": [
    {
     "name": "stdout",
     "output_type": "stream",
     "text": [
      "Collecting pypdf\n",
      "  Downloading pypdf-4.2.0-py3-none-any.whl.metadata (7.4 kB)\n",
      "Collecting tiktoken\n",
      "  Downloading tiktoken-0.7.0-cp311-cp311-win_amd64.whl.metadata (6.8 kB)\n",
      "Collecting faiss-cpu\n",
      "  Downloading faiss_cpu-1.8.0-cp311-cp311-win_amd64.whl.metadata (3.8 kB)\n",
      "Requirement already satisfied: regex>=2022.1.18 in c:\\users\\ankom\\anaconda3\\lib\\site-packages (from tiktoken) (2023.10.3)\n",
      "Requirement already satisfied: requests>=2.26.0 in c:\\users\\ankom\\anaconda3\\lib\\site-packages (from tiktoken) (2.31.0)\n",
      "Requirement already satisfied: numpy in c:\\users\\ankom\\anaconda3\\lib\\site-packages (from faiss-cpu) (1.26.4)\n",
      "Requirement already satisfied: charset-normalizer<4,>=2 in c:\\users\\ankom\\anaconda3\\lib\\site-packages (from requests>=2.26.0->tiktoken) (2.0.4)\n",
      "Requirement already satisfied: idna<4,>=2.5 in c:\\users\\ankom\\anaconda3\\lib\\site-packages (from requests>=2.26.0->tiktoken) (3.4)\n",
      "Requirement already satisfied: urllib3<3,>=1.21.1 in c:\\users\\ankom\\anaconda3\\lib\\site-packages (from requests>=2.26.0->tiktoken) (2.0.7)\n",
      "Requirement already satisfied: certifi>=2017.4.17 in c:\\users\\ankom\\anaconda3\\lib\\site-packages (from requests>=2.26.0->tiktoken) (2024.2.2)\n",
      "Downloading pypdf-4.2.0-py3-none-any.whl (290 kB)\n",
      "   ---------------------------------------- 0.0/290.4 kB ? eta -:--:--\n",
      "   - -------------------------------------- 10.2/290.4 kB ? eta -:--:--\n",
      "   ----- --------------------------------- 41.0/290.4 kB 487.6 kB/s eta 0:00:01\n",
      "   -------------- ----------------------- 112.6/290.4 kB 930.9 kB/s eta 0:00:01\n",
      "   ---------------------------- ----------- 204.8/290.4 kB 1.2 MB/s eta 0:00:01\n",
      "   ---------------------------------------- 290.4/290.4 kB 1.4 MB/s eta 0:00:00\n",
      "Downloading tiktoken-0.7.0-cp311-cp311-win_amd64.whl (799 kB)\n",
      "   ---------------------------------------- 0.0/799.0 kB ? eta -:--:--\n",
      "   --------------- ------------------------ 317.4/799.0 kB 9.9 MB/s eta 0:00:01\n",
      "   --------------------------------------  798.7/799.0 kB 10.1 MB/s eta 0:00:01\n",
      "   ---------------------------------------- 799.0/799.0 kB 8.4 MB/s eta 0:00:00\n",
      "Downloading faiss_cpu-1.8.0-cp311-cp311-win_amd64.whl (14.5 MB)\n",
      "   ---------------------------------------- 0.0/14.5 MB ? eta -:--:--\n",
      "   - -------------------------------------- 0.6/14.5 MB 12.0 MB/s eta 0:00:02\n",
      "   --- ------------------------------------ 1.2/14.5 MB 13.0 MB/s eta 0:00:02\n",
      "   ----- ---------------------------------- 2.2/14.5 MB 15.3 MB/s eta 0:00:01\n",
      "   ------- -------------------------------- 2.8/14.5 MB 14.7 MB/s eta 0:00:01\n",
      "   -------- ------------------------------- 3.2/14.5 MB 13.4 MB/s eta 0:00:01\n",
      "   ---------- ----------------------------- 3.9/14.5 MB 13.8 MB/s eta 0:00:01\n",
      "   ------------ --------------------------- 4.6/14.5 MB 14.7 MB/s eta 0:00:01\n",
      "   --------------- ------------------------ 5.6/14.5 MB 14.9 MB/s eta 0:00:01\n",
      "   ----------------- ---------------------- 6.4/14.5 MB 15.1 MB/s eta 0:00:01\n",
      "   ------------------- -------------------- 7.2/14.5 MB 15.4 MB/s eta 0:00:01\n",
      "   ---------------------- ----------------- 8.0/14.5 MB 15.5 MB/s eta 0:00:01\n",
      "   ------------------------ --------------- 8.8/14.5 MB 15.6 MB/s eta 0:00:01\n",
      "   -------------------------- ------------- 9.5/14.5 MB 15.5 MB/s eta 0:00:01\n",
      "   ---------------------------- ----------- 10.2/14.5 MB 15.5 MB/s eta 0:00:01\n",
      "   ----------------------------- ---------- 10.8/14.5 MB 15.6 MB/s eta 0:00:01\n",
      "   ------------------------------- -------- 11.4/14.5 MB 15.6 MB/s eta 0:00:01\n",
      "   --------------------------------- ------ 12.1/14.5 MB 15.2 MB/s eta 0:00:01\n",
      "   ---------------------------------- ----- 12.7/14.5 MB 14.5 MB/s eta 0:00:01\n",
      "   ------------------------------------ --- 13.3/14.5 MB 15.2 MB/s eta 0:00:01\n",
      "   ------------------------------------- -- 13.7/14.5 MB 14.6 MB/s eta 0:00:01\n",
      "   ---------------------------------------  14.3/14.5 MB 14.6 MB/s eta 0:00:01\n",
      "   ---------------------------------------  14.5/14.5 MB 14.2 MB/s eta 0:00:01\n",
      "   ---------------------------------------- 14.5/14.5 MB 13.6 MB/s eta 0:00:00\n",
      "Installing collected packages: pypdf, faiss-cpu, tiktoken\n",
      "Successfully installed faiss-cpu-1.8.0 pypdf-4.2.0 tiktoken-0.7.0\n"
     ]
    }
   ],
   "source": [
    "!pip install pypdf  tiktoken faiss-cpu"
   ]
  },
  {
   "cell_type": "code",
   "execution_count": 9,
   "id": "62f5fbf5-8068-4498-83df-d14b1cc7e1e8",
   "metadata": {},
   "outputs": [
    {
     "name": "stderr",
     "output_type": "stream",
     "text": [
      "C:\\Users\\ankom\\anaconda3\\Lib\\site-packages\\langchain_core\\_api\\deprecation.py:119: LangChainDeprecationWarning: The class `OpenAIEmbeddings` was deprecated in LangChain 0.0.9 and will be removed in 0.2.0. An updated version of the class exists in the langchain-openai package and should be used instead. To use it run `pip install -U langchain-openai` and import as `from langchain_openai import OpenAIEmbeddings`.\n",
      "  warn_deprecated(\n"
     ]
    }
   ],
   "source": [
    "from langchain.embeddings import OpenAIEmbeddings\n",
    "from langchain.vectorstores import FAISS\n",
    "\n",
    "pdfstore = FAISS.from_documents(pdfpages, embedding=OpenAIEmbeddings())"
   ]
  },
  {
   "cell_type": "code",
   "execution_count": 22,
   "id": "2072e1c1-507c-4ae2-aa8a-2fe65bb13805",
   "metadata": {},
   "outputs": [],
   "source": [
    "from langchain.llms import OpenAI\n",
    "\n",
    "from langchain.prompts import PromptTemplate"
   ]
  },
  {
   "cell_type": "code",
   "execution_count": 26,
   "id": "f994e0bc-788e-4339-a855-efb4dbfdedbb",
   "metadata": {},
   "outputs": [],
   "source": [
    "m1=OpenAI()"
   ]
  },
  {
   "cell_type": "code",
   "execution_count": 27,
   "id": "74e4d5c8-7d0c-4843-add6-914dbda92c9f",
   "metadata": {},
   "outputs": [],
   "source": [
    "prompt_template = PromptTemplate.from_template(\n",
    "\"{q1}in one sentence \\n Answer\"\n",
    ")\n",
    "prompt_and_model = prompt_template | m1"
   ]
  },
  {
   "cell_type": "code",
   "execution_count": 28,
   "id": "6a18f842-3926-4064-81b9-73f44f9cfeb3",
   "metadata": {},
   "outputs": [
    {
     "data": {
      "text/plain": [
       "': Millimeter wave is a type of high-frequency electromagnetic radiation that is used in various technologies such as wireless communication, radar, and imaging.'"
      ]
     },
     "execution_count": 28,
     "metadata": {},
     "output_type": "execute_result"
    }
   ],
   "source": [
    "prompt_and_model.invoke({\"q1\": \"what is millimeter wave\"})"
   ]
  },
  {
   "cell_type": "code",
   "execution_count": null,
   "id": "89f282c4-bbc4-4674-a7b1-09bbd4a5c427",
   "metadata": {},
   "outputs": [],
   "source": []
  }
 ],
 "metadata": {
  "kernelspec": {
   "display_name": "Python 3 (ipykernel)",
   "language": "python",
   "name": "python3"
  },
  "language_info": {
   "codemirror_mode": {
    "name": "ipython",
    "version": 3
   },
   "file_extension": ".py",
   "mimetype": "text/x-python",
   "name": "python",
   "nbconvert_exporter": "python",
   "pygments_lexer": "ipython3",
   "version": "3.11.7"
  }
 },
 "nbformat": 4,
 "nbformat_minor": 5
}
