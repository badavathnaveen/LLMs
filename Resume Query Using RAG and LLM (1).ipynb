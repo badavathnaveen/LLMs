{
 "cells": [
  {
   "cell_type": "code",
   "execution_count": 1,
   "id": "b3112f8b",
   "metadata": {},
   "outputs": [
    {
     "name": "stdout",
     "output_type": "stream",
     "text": [
      "Collecting llama-index\n",
      "  Downloading llama_index-0.10.43-py3-none-any.whl.metadata (11 kB)\n",
      "Collecting llama-index-agent-openai<0.3.0,>=0.1.4 (from llama-index)\n",
      "  Downloading llama_index_agent_openai-0.2.7-py3-none-any.whl.metadata (678 bytes)\n",
      "Collecting llama-index-cli<0.2.0,>=0.1.2 (from llama-index)\n",
      "  Downloading llama_index_cli-0.1.12-py3-none-any.whl.metadata (1.5 kB)\n",
      "Collecting llama-index-core==0.10.43 (from llama-index)\n",
      "  Downloading llama_index_core-0.10.43-py3-none-any.whl.metadata (2.4 kB)\n",
      "Collecting llama-index-embeddings-openai<0.2.0,>=0.1.5 (from llama-index)\n",
      "  Downloading llama_index_embeddings_openai-0.1.10-py3-none-any.whl.metadata (604 bytes)\n",
      "Collecting llama-index-indices-managed-llama-cloud<0.2.0,>=0.1.2 (from llama-index)\n",
      "  Downloading llama_index_indices_managed_llama_cloud-0.1.6-py3-none-any.whl.metadata (3.8 kB)\n",
      "Collecting llama-index-legacy<0.10.0,>=0.9.48 (from llama-index)\n",
      "  Downloading llama_index_legacy-0.9.48-py3-none-any.whl.metadata (8.5 kB)\n",
      "Collecting llama-index-llms-openai<0.2.0,>=0.1.13 (from llama-index)\n",
      "  Downloading llama_index_llms_openai-0.1.22-py3-none-any.whl.metadata (559 bytes)\n",
      "Collecting llama-index-multi-modal-llms-openai<0.2.0,>=0.1.3 (from llama-index)\n",
      "  Downloading llama_index_multi_modal_llms_openai-0.1.6-py3-none-any.whl.metadata (677 bytes)\n",
      "Collecting llama-index-program-openai<0.2.0,>=0.1.3 (from llama-index)\n",
      "  Downloading llama_index_program_openai-0.1.6-py3-none-any.whl.metadata (715 bytes)\n",
      "Collecting llama-index-question-gen-openai<0.2.0,>=0.1.2 (from llama-index)\n",
      "  Downloading llama_index_question_gen_openai-0.1.3-py3-none-any.whl.metadata (785 bytes)\n",
      "Collecting llama-index-readers-file<0.2.0,>=0.1.4 (from llama-index)\n",
      "  Downloading llama_index_readers_file-0.1.23-py3-none-any.whl.metadata (5.4 kB)\n",
      "Collecting llama-index-readers-llama-parse<0.2.0,>=0.1.2 (from llama-index)\n",
      "  Downloading llama_index_readers_llama_parse-0.1.4-py3-none-any.whl.metadata (3.5 kB)\n",
      "Requirement already satisfied: PyYAML>=6.0.1 in c:\\users\\navee\\anaconda3\\lib\\site-packages (from llama-index-core==0.10.43->llama-index) (6.0.1)\n",
      "Requirement already satisfied: SQLAlchemy>=1.4.49 in c:\\users\\navee\\anaconda3\\lib\\site-packages (from SQLAlchemy[asyncio]>=1.4.49->llama-index-core==0.10.43->llama-index) (2.0.25)\n",
      "Requirement already satisfied: aiohttp<4.0.0,>=3.8.6 in c:\\users\\navee\\anaconda3\\lib\\site-packages (from llama-index-core==0.10.43->llama-index) (3.9.3)\n",
      "Requirement already satisfied: dataclasses-json in c:\\users\\navee\\appdata\\roaming\\python\\python311\\site-packages (from llama-index-core==0.10.43->llama-index) (0.6.4)\n",
      "Requirement already satisfied: deprecated>=1.2.9.3 in c:\\users\\navee\\appdata\\roaming\\python\\python311\\site-packages (from llama-index-core==0.10.43->llama-index) (1.2.14)\n",
      "Collecting dirtyjson<2.0.0,>=1.0.8 (from llama-index-core==0.10.43->llama-index)\n",
      "  Downloading dirtyjson-1.0.8-py3-none-any.whl.metadata (11 kB)\n",
      "Requirement already satisfied: fsspec>=2023.5.0 in c:\\users\\navee\\anaconda3\\lib\\site-packages (from llama-index-core==0.10.43->llama-index) (2023.10.0)\n",
      "Requirement already satisfied: httpx in c:\\users\\navee\\anaconda3\\lib\\site-packages (from llama-index-core==0.10.43->llama-index) (0.27.0)\n",
      "Collecting llamaindex-py-client<0.2.0,>=0.1.18 (from llama-index-core==0.10.43->llama-index)\n",
      "  Downloading llamaindex_py_client-0.1.19-py3-none-any.whl.metadata (760 bytes)\n",
      "Requirement already satisfied: nest-asyncio<2.0.0,>=1.5.8 in c:\\users\\navee\\anaconda3\\lib\\site-packages (from llama-index-core==0.10.43->llama-index) (1.6.0)\n",
      "Requirement already satisfied: networkx>=3.0 in c:\\users\\navee\\anaconda3\\lib\\site-packages (from llama-index-core==0.10.43->llama-index) (3.1)\n",
      "Requirement already satisfied: nltk<4.0.0,>=3.8.1 in c:\\users\\navee\\anaconda3\\lib\\site-packages (from llama-index-core==0.10.43->llama-index) (3.8.1)\n",
      "Requirement already satisfied: numpy in c:\\users\\navee\\anaconda3\\lib\\site-packages (from llama-index-core==0.10.43->llama-index) (1.26.4)\n",
      "Requirement already satisfied: openai>=1.1.0 in c:\\users\\navee\\anaconda3\\lib\\site-packages (from llama-index-core==0.10.43->llama-index) (1.32.0)\n",
      "Requirement already satisfied: pandas in c:\\users\\navee\\anaconda3\\lib\\site-packages (from llama-index-core==0.10.43->llama-index) (2.1.4)\n",
      "Requirement already satisfied: pillow>=9.0.0 in c:\\users\\navee\\anaconda3\\lib\\site-packages (from llama-index-core==0.10.43->llama-index) (10.2.0)\n",
      "Requirement already satisfied: requests>=2.31.0 in c:\\users\\navee\\anaconda3\\lib\\site-packages (from llama-index-core==0.10.43->llama-index) (2.31.0)\n",
      "Requirement already satisfied: tenacity<9.0.0,>=8.2.0 in c:\\users\\navee\\anaconda3\\lib\\site-packages (from llama-index-core==0.10.43->llama-index) (8.2.2)\n",
      "Requirement already satisfied: tiktoken>=0.3.3 in c:\\users\\navee\\anaconda3\\lib\\site-packages (from llama-index-core==0.10.43->llama-index) (0.7.0)\n",
      "Collecting tqdm<5.0.0,>=4.66.1 (from llama-index-core==0.10.43->llama-index)\n",
      "  Downloading tqdm-4.66.4-py3-none-any.whl.metadata (57 kB)\n",
      "     ---------------------------------------- 0.0/57.6 kB ? eta -:--:--\n",
      "     ---------------------------------------- 57.6/57.6 kB 1.5 MB/s eta 0:00:00\n",
      "Requirement already satisfied: typing-extensions>=4.5.0 in c:\\users\\navee\\anaconda3\\lib\\site-packages (from llama-index-core==0.10.43->llama-index) (4.9.0)\n",
      "Requirement already satisfied: typing-inspect>=0.8.0 in c:\\users\\navee\\appdata\\roaming\\python\\python311\\site-packages (from llama-index-core==0.10.43->llama-index) (0.9.0)\n",
      "Requirement already satisfied: wrapt in c:\\users\\navee\\anaconda3\\lib\\site-packages (from llama-index-core==0.10.43->llama-index) (1.14.1)\n",
      "Collecting beautifulsoup4<5.0.0,>=4.12.3 (from llama-index-readers-file<0.2.0,>=0.1.4->llama-index)\n",
      "  Using cached beautifulsoup4-4.12.3-py3-none-any.whl.metadata (3.8 kB)\n",
      "Requirement already satisfied: pypdf<5.0.0,>=4.0.1 in c:\\users\\navee\\anaconda3\\lib\\site-packages (from llama-index-readers-file<0.2.0,>=0.1.4->llama-index) (4.2.0)\n",
      "Collecting striprtf<0.0.27,>=0.0.26 (from llama-index-readers-file<0.2.0,>=0.1.4->llama-index)\n",
      "  Downloading striprtf-0.0.26-py3-none-any.whl.metadata (2.1 kB)\n",
      "Collecting llama-parse<0.5.0,>=0.4.0 (from llama-index-readers-llama-parse<0.2.0,>=0.1.2->llama-index)\n",
      "  Downloading llama_parse-0.4.4-py3-none-any.whl.metadata (3.5 kB)\n",
      "Requirement already satisfied: aiosignal>=1.1.2 in c:\\users\\navee\\anaconda3\\lib\\site-packages (from aiohttp<4.0.0,>=3.8.6->llama-index-core==0.10.43->llama-index) (1.2.0)\n",
      "Requirement already satisfied: attrs>=17.3.0 in c:\\users\\navee\\anaconda3\\lib\\site-packages (from aiohttp<4.0.0,>=3.8.6->llama-index-core==0.10.43->llama-index) (23.1.0)\n",
      "Requirement already satisfied: frozenlist>=1.1.1 in c:\\users\\navee\\anaconda3\\lib\\site-packages (from aiohttp<4.0.0,>=3.8.6->llama-index-core==0.10.43->llama-index) (1.4.0)\n",
      "Requirement already satisfied: multidict<7.0,>=4.5 in c:\\users\\navee\\anaconda3\\lib\\site-packages (from aiohttp<4.0.0,>=3.8.6->llama-index-core==0.10.43->llama-index) (6.0.4)\n",
      "Requirement already satisfied: yarl<2.0,>=1.0 in c:\\users\\navee\\anaconda3\\lib\\site-packages (from aiohttp<4.0.0,>=3.8.6->llama-index-core==0.10.43->llama-index) (1.9.3)\n",
      "Requirement already satisfied: soupsieve>1.2 in c:\\users\\navee\\anaconda3\\lib\\site-packages (from beautifulsoup4<5.0.0,>=4.12.3->llama-index-readers-file<0.2.0,>=0.1.4->llama-index) (2.5)\n",
      "Requirement already satisfied: pydantic>=1.10 in c:\\users\\navee\\anaconda3\\lib\\site-packages (from llamaindex-py-client<0.2.0,>=0.1.18->llama-index-core==0.10.43->llama-index) (1.10.12)\n",
      "Requirement already satisfied: anyio in c:\\users\\navee\\anaconda3\\lib\\site-packages (from httpx->llama-index-core==0.10.43->llama-index) (4.2.0)\n",
      "Requirement already satisfied: certifi in c:\\users\\navee\\anaconda3\\lib\\site-packages (from httpx->llama-index-core==0.10.43->llama-index) (2024.2.2)\n",
      "Requirement already satisfied: httpcore==1.* in c:\\users\\navee\\anaconda3\\lib\\site-packages (from httpx->llama-index-core==0.10.43->llama-index) (1.0.5)\n",
      "Requirement already satisfied: idna in c:\\users\\navee\\anaconda3\\lib\\site-packages (from httpx->llama-index-core==0.10.43->llama-index) (3.4)\n",
      "Requirement already satisfied: sniffio in c:\\users\\navee\\anaconda3\\lib\\site-packages (from httpx->llama-index-core==0.10.43->llama-index) (1.3.0)\n",
      "Requirement already satisfied: h11<0.15,>=0.13 in c:\\users\\navee\\anaconda3\\lib\\site-packages (from httpcore==1.*->httpx->llama-index-core==0.10.43->llama-index) (0.14.0)\n",
      "Requirement already satisfied: click in c:\\users\\navee\\anaconda3\\lib\\site-packages (from nltk<4.0.0,>=3.8.1->llama-index-core==0.10.43->llama-index) (8.1.7)\n",
      "Requirement already satisfied: joblib in c:\\users\\navee\\anaconda3\\lib\\site-packages (from nltk<4.0.0,>=3.8.1->llama-index-core==0.10.43->llama-index) (1.2.0)\n",
      "Requirement already satisfied: regex>=2021.8.3 in c:\\users\\navee\\anaconda3\\lib\\site-packages (from nltk<4.0.0,>=3.8.1->llama-index-core==0.10.43->llama-index) (2023.10.3)\n",
      "Requirement already satisfied: distro<2,>=1.7.0 in c:\\users\\navee\\anaconda3\\lib\\site-packages (from openai>=1.1.0->llama-index-core==0.10.43->llama-index) (1.8.0)\n",
      "Requirement already satisfied: charset-normalizer<4,>=2 in c:\\users\\navee\\anaconda3\\lib\\site-packages (from requests>=2.31.0->llama-index-core==0.10.43->llama-index) (2.0.4)\n",
      "Requirement already satisfied: urllib3<3,>=1.21.1 in c:\\users\\navee\\anaconda3\\lib\\site-packages (from requests>=2.31.0->llama-index-core==0.10.43->llama-index) (2.0.7)\n",
      "Requirement already satisfied: greenlet!=0.4.17 in c:\\users\\navee\\anaconda3\\lib\\site-packages (from SQLAlchemy>=1.4.49->SQLAlchemy[asyncio]>=1.4.49->llama-index-core==0.10.43->llama-index) (3.0.1)\n",
      "Requirement already satisfied: colorama in c:\\users\\navee\\anaconda3\\lib\\site-packages (from tqdm<5.0.0,>=4.66.1->llama-index-core==0.10.43->llama-index) (0.4.6)\n",
      "Requirement already satisfied: mypy-extensions>=0.3.0 in c:\\users\\navee\\anaconda3\\lib\\site-packages (from typing-inspect>=0.8.0->llama-index-core==0.10.43->llama-index) (1.0.0)\n",
      "Requirement already satisfied: marshmallow<4.0.0,>=3.18.0 in c:\\users\\navee\\appdata\\roaming\\python\\python311\\site-packages (from dataclasses-json->llama-index-core==0.10.43->llama-index) (3.21.1)\n",
      "Requirement already satisfied: python-dateutil>=2.8.2 in c:\\users\\navee\\anaconda3\\lib\\site-packages (from pandas->llama-index-core==0.10.43->llama-index) (2.8.2)\n",
      "Requirement already satisfied: pytz>=2020.1 in c:\\users\\navee\\anaconda3\\lib\\site-packages (from pandas->llama-index-core==0.10.43->llama-index) (2023.3.post1)\n",
      "Requirement already satisfied: tzdata>=2022.1 in c:\\users\\navee\\anaconda3\\lib\\site-packages (from pandas->llama-index-core==0.10.43->llama-index) (2023.3)\n",
      "Requirement already satisfied: packaging>=17.0 in c:\\users\\navee\\appdata\\roaming\\python\\python311\\site-packages (from marshmallow<4.0.0,>=3.18.0->dataclasses-json->llama-index-core==0.10.43->llama-index) (23.2)\n",
      "Requirement already satisfied: six>=1.5 in c:\\users\\navee\\anaconda3\\lib\\site-packages (from python-dateutil>=2.8.2->pandas->llama-index-core==0.10.43->llama-index) (1.16.0)\n",
      "Downloading llama_index-0.10.43-py3-none-any.whl (6.8 kB)\n",
      "Downloading llama_index_core-0.10.43-py3-none-any.whl (15.4 MB)\n",
      "   ---------------------------------------- 0.0/15.4 MB ? eta -:--:--\n",
      "    --------------------------------------- 0.2/15.4 MB 6.3 MB/s eta 0:00:03\n",
      "    --------------------------------------- 0.4/15.4 MB 5.5 MB/s eta 0:00:03\n",
      "   - -------------------------------------- 0.4/15.4 MB 2.7 MB/s eta 0:00:06\n",
      "   - -------------------------------------- 0.7/15.4 MB 4.1 MB/s eta 0:00:04\n",
      "   -- ------------------------------------- 1.1/15.4 MB 4.9 MB/s eta 0:00:03\n",
      "   ---- ----------------------------------- 1.6/15.4 MB 6.0 MB/s eta 0:00:03\n",
      "   ----- ---------------------------------- 2.1/15.4 MB 6.7 MB/s eta 0:00:02\n",
      "   ------ --------------------------------- 2.6/15.4 MB 7.4 MB/s eta 0:00:02\n",
      "   -------- ------------------------------- 3.2/15.4 MB 8.1 MB/s eta 0:00:02\n",
      "   --------- ------------------------------ 3.6/15.4 MB 8.5 MB/s eta 0:00:02\n",
      "   ---------- ----------------------------- 4.1/15.4 MB 8.6 MB/s eta 0:00:02\n",
      "   ------------ --------------------------- 4.8/15.4 MB 9.3 MB/s eta 0:00:02\n",
      "   ------------- -------------------------- 5.4/15.4 MB 9.6 MB/s eta 0:00:02\n",
      "   --------------- ------------------------ 6.0/15.4 MB 10.1 MB/s eta 0:00:01\n",
      "   ----------------- ---------------------- 6.9/15.4 MB 10.7 MB/s eta 0:00:01\n",
      "   ------------------- -------------------- 7.5/15.4 MB 10.7 MB/s eta 0:00:01\n",
      "   --------------------- ------------------ 8.3/15.4 MB 11.3 MB/s eta 0:00:01\n",
      "   ----------------------- ---------------- 8.9/15.4 MB 11.6 MB/s eta 0:00:01\n",
      "   ------------------------ --------------- 9.5/15.4 MB 11.7 MB/s eta 0:00:01\n",
      "   -------------------------- ------------- 10.0/15.4 MB 11.7 MB/s eta 0:00:01\n",
      "   ---------------------------- ----------- 10.8/15.4 MB 14.2 MB/s eta 0:00:01\n",
      "   ------------------------------ --------- 11.6/15.4 MB 14.2 MB/s eta 0:00:01\n",
      "   ------------------------------- -------- 12.1/15.4 MB 14.2 MB/s eta 0:00:01\n",
      "   --------------------------------- ------ 12.9/15.4 MB 15.2 MB/s eta 0:00:01\n",
      "   ---------------------------------- ----- 13.3/15.4 MB 14.6 MB/s eta 0:00:01\n",
      "   ----------------------------------- ---- 13.8/15.4 MB 14.6 MB/s eta 0:00:01\n",
      "   -------------------------------------- - 14.7/15.4 MB 14.9 MB/s eta 0:00:01\n",
      "   ---------------------------------------  15.4/15.4 MB 15.6 MB/s eta 0:00:01\n",
      "   ---------------------------------------- 15.4/15.4 MB 14.9 MB/s eta 0:00:00\n",
      "Downloading llama_index_agent_openai-0.2.7-py3-none-any.whl (12 kB)\n",
      "Downloading llama_index_cli-0.1.12-py3-none-any.whl (26 kB)\n",
      "Downloading llama_index_embeddings_openai-0.1.10-py3-none-any.whl (6.2 kB)\n",
      "Downloading llama_index_indices_managed_llama_cloud-0.1.6-py3-none-any.whl (6.7 kB)\n",
      "Downloading llama_index_legacy-0.9.48-py3-none-any.whl (2.0 MB)\n",
      "   ---------------------------------------- 0.0/2.0 MB ? eta -:--:--\n",
      "   --------------------- ------------------ 1.0/2.0 MB 22.0 MB/s eta 0:00:01\n",
      "   --------------------------------- ------ 1.6/2.0 MB 17.3 MB/s eta 0:00:01\n",
      "   ---------------------------------------- 2.0/2.0 MB 15.8 MB/s eta 0:00:00\n",
      "Downloading llama_index_llms_openai-0.1.22-py3-none-any.whl (11 kB)\n",
      "Downloading llama_index_multi_modal_llms_openai-0.1.6-py3-none-any.whl (5.8 kB)\n",
      "Downloading llama_index_program_openai-0.1.6-py3-none-any.whl (5.2 kB)\n",
      "Downloading llama_index_question_gen_openai-0.1.3-py3-none-any.whl (2.9 kB)\n",
      "Downloading llama_index_readers_file-0.1.23-py3-none-any.whl (36 kB)\n",
      "Downloading llama_index_readers_llama_parse-0.1.4-py3-none-any.whl (2.5 kB)\n",
      "Using cached beautifulsoup4-4.12.3-py3-none-any.whl (147 kB)\n",
      "Downloading dirtyjson-1.0.8-py3-none-any.whl (25 kB)\n",
      "Downloading llama_parse-0.4.4-py3-none-any.whl (8.0 kB)\n",
      "Downloading llamaindex_py_client-0.1.19-py3-none-any.whl (141 kB)\n",
      "   ---------------------------------------- 0.0/141.9 kB ? eta -:--:--\n",
      "   ---------------------------------------- 141.9/141.9 kB 8.2 MB/s eta 0:00:00\n",
      "Downloading striprtf-0.0.26-py3-none-any.whl (6.9 kB)\n",
      "Downloading tqdm-4.66.4-py3-none-any.whl (78 kB)\n",
      "   ---------------------------------------- 0.0/78.3 kB ? eta -:--:--\n",
      "   ---------------------------------------- 78.3/78.3 kB ? eta 0:00:00\n",
      "Installing collected packages: striprtf, dirtyjson, tqdm, beautifulsoup4, llamaindex-py-client, llama-index-legacy, llama-index-core, llama-parse, llama-index-readers-file, llama-index-llms-openai, llama-index-indices-managed-llama-cloud, llama-index-embeddings-openai, llama-index-readers-llama-parse, llama-index-multi-modal-llms-openai, llama-index-cli, llama-index-agent-openai, llama-index-program-openai, llama-index-question-gen-openai, llama-index\n",
      "  Attempting uninstall: tqdm\n",
      "    Found existing installation: tqdm 4.65.0\n",
      "    Uninstalling tqdm-4.65.0:\n",
      "      Successfully uninstalled tqdm-4.65.0\n",
      "  Attempting uninstall: beautifulsoup4\n",
      "    Found existing installation: beautifulsoup4 4.12.2\n",
      "    Uninstalling beautifulsoup4-4.12.2:\n",
      "      Successfully uninstalled beautifulsoup4-4.12.2\n",
      "Successfully installed beautifulsoup4-4.12.3 dirtyjson-1.0.8 llama-index-0.10.43 llama-index-agent-openai-0.2.7 llama-index-cli-0.1.12 llama-index-core-0.10.43 llama-index-embeddings-openai-0.1.10 llama-index-indices-managed-llama-cloud-0.1.6 llama-index-legacy-0.9.48 llama-index-llms-openai-0.1.22 llama-index-multi-modal-llms-openai-0.1.6 llama-index-program-openai-0.1.6 llama-index-question-gen-openai-0.1.3 llama-index-readers-file-0.1.23 llama-index-readers-llama-parse-0.1.4 llama-parse-0.4.4 llamaindex-py-client-0.1.19 striprtf-0.0.26 tqdm-4.66.4\n"
     ]
    }
   ],
   "source": [
    "!pip install llama-index"
   ]
  },
  {
   "cell_type": "code",
   "execution_count": 2,
   "id": "48fae598",
   "metadata": {},
   "outputs": [],
   "source": [
    "import os\n",
    "os.environ[\"\""
   ]
  },
  {
   "cell_type": "code",
   "execution_count": 4,
   "id": "8cc92ebf",
   "metadata": {},
   "outputs": [],
   "source": [
    "f_path= \"C:\\\\Users\\\\navee\\\\Downloads\\\\B. Naveen Data Science (1).pdf\"\n",
    "f_path1 = \"C:\\\\Users\\\\navee\\\\Downloads\\\\resume (3).pdf\""
   ]
  },
  {
   "cell_type": "code",
   "execution_count": 5,
   "id": "ae1b903b",
   "metadata": {},
   "outputs": [],
   "source": [
    "from llama_index.core import SimpleDirectoryReader"
   ]
  },
  {
   "cell_type": "code",
   "execution_count": 6,
   "id": "d00834d4",
   "metadata": {},
   "outputs": [],
   "source": [
    "reader=SimpleDirectoryReader(input_files=[f_path,f_path1])"
   ]
  },
  {
   "cell_type": "code",
   "execution_count": 8,
   "id": "63841d7f",
   "metadata": {},
   "outputs": [],
   "source": [
    "pdf_documents = reader.load_data()"
   ]
  },
  {
   "cell_type": "code",
   "execution_count": 9,
   "id": "25c193d6",
   "metadata": {},
   "outputs": [],
   "source": [
    "from llama_index.core  import VectorStoreIndex\n",
    "index = VectorStoreIndex.from_documents(pdf_documents)"
   ]
  },
  {
   "cell_type": "code",
   "execution_count": 11,
   "id": "d11b7e7e",
   "metadata": {},
   "outputs": [
    {
     "name": "stdout",
     "output_type": "stream",
     "text": [
      "The technical skills present in Badavath Naveen are:\n",
      "\n",
      "1. Data Analysis: This skill involves exploring and preprocessing data, as well as visualizing it to extract meaningful insights. It is crucial for understanding patterns and trends in data, which is essential for making informed decisions in various fields.\n",
      "\n",
      "2. Python: Python is a versatile programming language commonly used in data science for tasks such as data manipulation, analysis, and visualization. Libraries like Pandas, NumPy, Matplotlib, Seaborn, and Scikit-Learn are frequently used for these purposes.\n",
      "\n",
      "3. Machine Learning: This skill encompasses various algorithms like Linear Regression, Logistic Regression, Decision Trees, Support Vector Machines (SVM), XG Boost, AdaBoost, Gradient Boosting, and Random Forest. These algorithms are used to build predictive models and make sense of complex datasets.\n",
      "\n",
      "4. Deep Learning & AI: Deep learning involves advanced neural networks like Multilayer Perceptron (MLP), Convolutional Neural Networks (CNN), Recurrent Neural Networks (RNN), Long Short-Term Memory (LSTM), Natural Language Processing (NLP), and Transformers. These techniques are used for tasks such as image recognition, text analysis, and sequence prediction.\n",
      "\n",
      "5. Maths: Knowledge of Probability, Statistics, and Linear Algebra is essential for data science as they form the foundation for understanding and working with data effectively.\n",
      "\n",
      "6. Generative AI (LLMs), LangChain, Retrieval Augmented Generation (RAG): These skills involve working with advanced AI models that can generate content, understand language, and retrieve information efficiently. They are used in tasks like text generation, question-answering systems, and content creation.\n",
      "\n",
      "7. MLOps, MLflow: These skills are related to managing and deploying machine learning models efficiently in production environments. MLOps focuses on the lifecycle of ML models, while MLflow is a platform for managing the end-to-end machine learning workflow.\n"
     ]
    }
   ],
   "source": [
    "query_engine = index.as_query_engine()\n",
    "response = query_engine.query(\"provide me the technical skills present in badavath naveen and explain each skill is related to and use of it\")\n",
    "print(response)"
   ]
  },
  {
   "cell_type": "code",
   "execution_count": 12,
   "id": "b6571662",
   "metadata": {},
   "outputs": [
    {
     "name": "stdout",
     "output_type": "stream",
     "text": [
      "Badavath Naveen's work experience is not explicitly mentioned in the provided context information.\n"
     ]
    }
   ],
   "source": [
    "query_engine = index.as_query_engine()      \n",
    "response = query_engine.query(\"Provide me the work experience of badavath naveen\")\n",
    "print(response)"
   ]
  },
  {
   "cell_type": "code",
   "execution_count": 14,
   "id": "809d1bb3",
   "metadata": {},
   "outputs": [
    {
     "name": "stdout",
     "output_type": "stream",
     "text": [
      "The projects \"SENTIMENT ANALYSIS: NLP\" and \"QUESTION AND ANSWER WITH DISTILBERT INFORMATION\" are similar in both resumes as they involve designing and implementing models using NLP techniques and deep learning to achieve specific tasks with high accuracy.\n"
     ]
    }
   ],
   "source": [
    "chat_engine = index.as_chat_engine()\n",
    "\n",
    "response = chat_engine.chat(\"give similar projects in both resumes?\")\n",
    "\n",
    "print(response)"
   ]
  },
  {
   "cell_type": "code",
   "execution_count": 15,
   "id": "ba521a28",
   "metadata": {},
   "outputs": [
    {
     "name": "stdout",
     "output_type": "stream",
     "text": [
      "Yedla Manasa completed her Bachelor of Technology from Bhoj Reddy Engineering College for Women, Santhosh Nagar with a CGPA of 6.2.\n"
     ]
    }
   ],
   "source": [
    "chat_engine = index.as_chat_engine()\n",
    "\n",
    "response = chat_engine.chat(\"what is the education of yedla manasa?\")\n",
    "\n",
    "print(response)"
   ]
  },
  {
   "cell_type": "code",
   "execution_count": 16,
   "id": "c3aa8ea4",
   "metadata": {},
   "outputs": [
    {
     "name": "stdout",
     "output_type": "stream",
     "text": [
      "Based on the information available, Badavath Naveen has the skills suitable for a data scientist role. He has a strong foundation in statistical analysis, AI/ML, data analysis techniques, data visualization, and technical skills such as Python, machine learning algorithms, deep learning, and AI models. Additionally, he has experience working on projects related to data analysis and forecasting using Python, NumPy, Pandas, and machine learning libraries like Scikit-Learn and LSTM.\n"
     ]
    }
   ],
   "source": [
    "chat_engine = index.as_chat_engine()\n",
    "\n",
    "response = chat_engine.chat(\"Does badavath naveen have enough skills suitable for a data scientist role?\")\n",
    "\n",
    "print(response)"
   ]
  },
  {
   "cell_type": "code",
   "execution_count": null,
   "id": "4fb31ddd",
   "metadata": {},
   "outputs": [],
   "source": []
  }
 ],
 "metadata": {
  "kernelspec": {
   "display_name": "Python 3 (ipykernel)",
   "language": "python",
   "name": "python3"
  },
  "language_info": {
   "codemirror_mode": {
    "name": "ipython",
    "version": 3
   },
   "file_extension": ".py",
   "mimetype": "text/x-python",
   "name": "python",
   "nbconvert_exporter": "python",
   "pygments_lexer": "ipython3",
   "version": "3.11.7"
  }
 },
 "nbformat": 4,
 "nbformat_minor": 5
}
