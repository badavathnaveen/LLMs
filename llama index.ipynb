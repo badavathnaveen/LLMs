{
 "cells": [
  {
   "cell_type": "code",
   "execution_count": 1,
   "id": "8c76bcd3-8443-41bf-8d44-102ecf7db56b",
   "metadata": {},
   "outputs": [
    {
     "name": "stdout",
     "output_type": "stream",
     "text": [
      "Collecting llama-index\n",
      "  Downloading llama_index-0.10.40-py3-none-any.whl.metadata (11 kB)\n",
      "Collecting llama-index-agent-openai<0.3.0,>=0.1.4 (from llama-index)\n",
      "  Downloading llama_index_agent_openai-0.2.5-py3-none-any.whl.metadata (678 bytes)\n",
      "Collecting llama-index-cli<0.2.0,>=0.1.2 (from llama-index)\n",
      "  Downloading llama_index_cli-0.1.12-py3-none-any.whl.metadata (1.5 kB)\n",
      "Collecting llama-index-core<0.11.0,>=0.10.40 (from llama-index)\n",
      "  Downloading llama_index_core-0.10.40-py3-none-any.whl.metadata (2.4 kB)\n",
      "Collecting llama-index-embeddings-openai<0.2.0,>=0.1.5 (from llama-index)\n",
      "  Downloading llama_index_embeddings_openai-0.1.10-py3-none-any.whl.metadata (604 bytes)\n",
      "Collecting llama-index-indices-managed-llama-cloud<0.2.0,>=0.1.2 (from llama-index)\n",
      "  Downloading llama_index_indices_managed_llama_cloud-0.1.6-py3-none-any.whl.metadata (3.8 kB)\n",
      "Collecting llama-index-legacy<0.10.0,>=0.9.48 (from llama-index)\n",
      "  Downloading llama_index_legacy-0.9.48-py3-none-any.whl.metadata (8.5 kB)\n",
      "Collecting llama-index-llms-openai<0.2.0,>=0.1.13 (from llama-index)\n",
      "  Downloading llama_index_llms_openai-0.1.21-py3-none-any.whl.metadata (559 bytes)\n",
      "Collecting llama-index-multi-modal-llms-openai<0.2.0,>=0.1.3 (from llama-index)\n",
      "  Downloading llama_index_multi_modal_llms_openai-0.1.6-py3-none-any.whl.metadata (677 bytes)\n",
      "Collecting llama-index-program-openai<0.2.0,>=0.1.3 (from llama-index)\n",
      "  Downloading llama_index_program_openai-0.1.6-py3-none-any.whl.metadata (715 bytes)\n",
      "Collecting llama-index-question-gen-openai<0.2.0,>=0.1.2 (from llama-index)\n",
      "  Downloading llama_index_question_gen_openai-0.1.3-py3-none-any.whl.metadata (785 bytes)\n",
      "Collecting llama-index-readers-file<0.2.0,>=0.1.4 (from llama-index)\n",
      "  Downloading llama_index_readers_file-0.1.23-py3-none-any.whl.metadata (5.4 kB)\n",
      "Collecting llama-index-readers-llama-parse<0.2.0,>=0.1.2 (from llama-index)\n",
      "  Downloading llama_index_readers_llama_parse-0.1.4-py3-none-any.whl.metadata (3.5 kB)\n",
      "Requirement already satisfied: openai>=1.14.0 in c:\\users\\ankom\\anaconda3\\lib\\site-packages (from llama-index-agent-openai<0.3.0,>=0.1.4->llama-index) (1.23.3)\n",
      "Requirement already satisfied: PyYAML>=6.0.1 in c:\\users\\ankom\\anaconda3\\lib\\site-packages (from llama-index-core<0.11.0,>=0.10.40->llama-index) (6.0.1)\n",
      "Requirement already satisfied: SQLAlchemy>=1.4.49 in c:\\users\\ankom\\anaconda3\\lib\\site-packages (from SQLAlchemy[asyncio]>=1.4.49->llama-index-core<0.11.0,>=0.10.40->llama-index) (2.0.25)\n",
      "Requirement already satisfied: aiohttp<4.0.0,>=3.8.6 in c:\\users\\ankom\\anaconda3\\lib\\site-packages (from llama-index-core<0.11.0,>=0.10.40->llama-index) (3.9.3)\n",
      "Requirement already satisfied: dataclasses-json in c:\\users\\ankom\\anaconda3\\lib\\site-packages (from llama-index-core<0.11.0,>=0.10.40->llama-index) (0.6.4)\n",
      "Collecting deprecated>=1.2.9.3 (from llama-index-core<0.11.0,>=0.10.40->llama-index)\n",
      "  Downloading Deprecated-1.2.14-py2.py3-none-any.whl.metadata (5.4 kB)\n",
      "Collecting dirtyjson<2.0.0,>=1.0.8 (from llama-index-core<0.11.0,>=0.10.40->llama-index)\n",
      "  Downloading dirtyjson-1.0.8-py3-none-any.whl.metadata (11 kB)\n",
      "Requirement already satisfied: fsspec>=2023.5.0 in c:\\users\\ankom\\anaconda3\\lib\\site-packages (from llama-index-core<0.11.0,>=0.10.40->llama-index) (2023.10.0)\n",
      "Requirement already satisfied: httpx in c:\\users\\ankom\\anaconda3\\lib\\site-packages (from llama-index-core<0.11.0,>=0.10.40->llama-index) (0.27.0)\n",
      "Collecting llamaindex-py-client<0.2.0,>=0.1.18 (from llama-index-core<0.11.0,>=0.10.40->llama-index)\n",
      "  Downloading llamaindex_py_client-0.1.19-py3-none-any.whl.metadata (760 bytes)\n",
      "Requirement already satisfied: nest-asyncio<2.0.0,>=1.5.8 in c:\\users\\ankom\\anaconda3\\lib\\site-packages (from llama-index-core<0.11.0,>=0.10.40->llama-index) (1.6.0)\n",
      "Requirement already satisfied: networkx>=3.0 in c:\\users\\ankom\\anaconda3\\lib\\site-packages (from llama-index-core<0.11.0,>=0.10.40->llama-index) (3.1)\n",
      "Requirement already satisfied: nltk<4.0.0,>=3.8.1 in c:\\users\\ankom\\anaconda3\\lib\\site-packages (from llama-index-core<0.11.0,>=0.10.40->llama-index) (3.8.1)\n",
      "Requirement already satisfied: numpy in c:\\users\\ankom\\anaconda3\\lib\\site-packages (from llama-index-core<0.11.0,>=0.10.40->llama-index) (1.26.4)\n",
      "Requirement already satisfied: pandas in c:\\users\\ankom\\anaconda3\\lib\\site-packages (from llama-index-core<0.11.0,>=0.10.40->llama-index) (2.1.4)\n",
      "Requirement already satisfied: pillow>=9.0.0 in c:\\users\\ankom\\anaconda3\\lib\\site-packages (from llama-index-core<0.11.0,>=0.10.40->llama-index) (10.2.0)\n",
      "Requirement already satisfied: requests>=2.31.0 in c:\\users\\ankom\\anaconda3\\lib\\site-packages (from llama-index-core<0.11.0,>=0.10.40->llama-index) (2.31.0)\n",
      "Requirement already satisfied: tenacity<9.0.0,>=8.2.0 in c:\\users\\ankom\\anaconda3\\lib\\site-packages (from llama-index-core<0.11.0,>=0.10.40->llama-index) (8.2.2)\n",
      "Requirement already satisfied: tiktoken>=0.3.3 in c:\\users\\ankom\\anaconda3\\lib\\site-packages (from llama-index-core<0.11.0,>=0.10.40->llama-index) (0.7.0)\n",
      "Collecting tqdm<5.0.0,>=4.66.1 (from llama-index-core<0.11.0,>=0.10.40->llama-index)\n",
      "  Downloading tqdm-4.66.4-py3-none-any.whl.metadata (57 kB)\n",
      "     ---------------------------------------- 0.0/57.6 kB ? eta -:--:--\n",
      "     ---------------------------------------- 0.0/57.6 kB ? eta -:--:--\n",
      "     ----------------------------------- ---- 51.2/57.6 kB 1.3 MB/s eta 0:00:01\n",
      "     -------------------------------------- 57.6/57.6 kB 751.0 kB/s eta 0:00:00\n",
      "Requirement already satisfied: typing-extensions>=4.5.0 in c:\\users\\ankom\\anaconda3\\lib\\site-packages (from llama-index-core<0.11.0,>=0.10.40->llama-index) (4.9.0)\n",
      "Requirement already satisfied: typing-inspect>=0.8.0 in c:\\users\\ankom\\anaconda3\\lib\\site-packages (from llama-index-core<0.11.0,>=0.10.40->llama-index) (0.9.0)\n",
      "Requirement already satisfied: wrapt in c:\\users\\ankom\\anaconda3\\lib\\site-packages (from llama-index-core<0.11.0,>=0.10.40->llama-index) (1.14.1)\n",
      "Collecting beautifulsoup4<5.0.0,>=4.12.3 (from llama-index-readers-file<0.2.0,>=0.1.4->llama-index)\n",
      "  Using cached beautifulsoup4-4.12.3-py3-none-any.whl.metadata (3.8 kB)\n",
      "Requirement already satisfied: pypdf<5.0.0,>=4.0.1 in c:\\users\\ankom\\anaconda3\\lib\\site-packages (from llama-index-readers-file<0.2.0,>=0.1.4->llama-index) (4.2.0)\n",
      "Collecting striprtf<0.0.27,>=0.0.26 (from llama-index-readers-file<0.2.0,>=0.1.4->llama-index)\n",
      "  Downloading striprtf-0.0.26-py3-none-any.whl.metadata (2.1 kB)\n",
      "Collecting llama-parse<0.5.0,>=0.4.0 (from llama-index-readers-llama-parse<0.2.0,>=0.1.2->llama-index)\n",
      "  Downloading llama_parse-0.4.4-py3-none-any.whl.metadata (3.5 kB)\n",
      "Requirement already satisfied: aiosignal>=1.1.2 in c:\\users\\ankom\\anaconda3\\lib\\site-packages (from aiohttp<4.0.0,>=3.8.6->llama-index-core<0.11.0,>=0.10.40->llama-index) (1.2.0)\n",
      "Requirement already satisfied: attrs>=17.3.0 in c:\\users\\ankom\\anaconda3\\lib\\site-packages (from aiohttp<4.0.0,>=3.8.6->llama-index-core<0.11.0,>=0.10.40->llama-index) (23.1.0)\n",
      "Requirement already satisfied: frozenlist>=1.1.1 in c:\\users\\ankom\\anaconda3\\lib\\site-packages (from aiohttp<4.0.0,>=3.8.6->llama-index-core<0.11.0,>=0.10.40->llama-index) (1.4.0)\n",
      "Requirement already satisfied: multidict<7.0,>=4.5 in c:\\users\\ankom\\anaconda3\\lib\\site-packages (from aiohttp<4.0.0,>=3.8.6->llama-index-core<0.11.0,>=0.10.40->llama-index) (6.0.4)\n",
      "Requirement already satisfied: yarl<2.0,>=1.0 in c:\\users\\ankom\\anaconda3\\lib\\site-packages (from aiohttp<4.0.0,>=3.8.6->llama-index-core<0.11.0,>=0.10.40->llama-index) (1.9.3)\n",
      "Requirement already satisfied: soupsieve>1.2 in c:\\users\\ankom\\anaconda3\\lib\\site-packages (from beautifulsoup4<5.0.0,>=4.12.3->llama-index-readers-file<0.2.0,>=0.1.4->llama-index) (2.5)\n",
      "Requirement already satisfied: pydantic>=1.10 in c:\\users\\ankom\\anaconda3\\lib\\site-packages (from llamaindex-py-client<0.2.0,>=0.1.18->llama-index-core<0.11.0,>=0.10.40->llama-index) (1.10.12)\n",
      "Requirement already satisfied: anyio in c:\\users\\ankom\\anaconda3\\lib\\site-packages (from httpx->llama-index-core<0.11.0,>=0.10.40->llama-index) (4.2.0)\n",
      "Requirement already satisfied: certifi in c:\\users\\ankom\\anaconda3\\lib\\site-packages (from httpx->llama-index-core<0.11.0,>=0.10.40->llama-index) (2024.2.2)\n",
      "Requirement already satisfied: httpcore==1.* in c:\\users\\ankom\\anaconda3\\lib\\site-packages (from httpx->llama-index-core<0.11.0,>=0.10.40->llama-index) (1.0.5)\n",
      "Requirement already satisfied: idna in c:\\users\\ankom\\anaconda3\\lib\\site-packages (from httpx->llama-index-core<0.11.0,>=0.10.40->llama-index) (3.4)\n",
      "Requirement already satisfied: sniffio in c:\\users\\ankom\\anaconda3\\lib\\site-packages (from httpx->llama-index-core<0.11.0,>=0.10.40->llama-index) (1.3.0)\n",
      "Requirement already satisfied: h11<0.15,>=0.13 in c:\\users\\ankom\\anaconda3\\lib\\site-packages (from httpcore==1.*->httpx->llama-index-core<0.11.0,>=0.10.40->llama-index) (0.14.0)\n",
      "Requirement already satisfied: click in c:\\users\\ankom\\anaconda3\\lib\\site-packages (from nltk<4.0.0,>=3.8.1->llama-index-core<0.11.0,>=0.10.40->llama-index) (8.1.7)\n",
      "Requirement already satisfied: joblib in c:\\users\\ankom\\anaconda3\\lib\\site-packages (from nltk<4.0.0,>=3.8.1->llama-index-core<0.11.0,>=0.10.40->llama-index) (1.2.0)\n",
      "Requirement already satisfied: regex>=2021.8.3 in c:\\users\\ankom\\anaconda3\\lib\\site-packages (from nltk<4.0.0,>=3.8.1->llama-index-core<0.11.0,>=0.10.40->llama-index) (2023.10.3)\n",
      "Requirement already satisfied: distro<2,>=1.7.0 in c:\\users\\ankom\\anaconda3\\lib\\site-packages (from openai>=1.14.0->llama-index-agent-openai<0.3.0,>=0.1.4->llama-index) (1.8.0)\n",
      "Requirement already satisfied: charset-normalizer<4,>=2 in c:\\users\\ankom\\anaconda3\\lib\\site-packages (from requests>=2.31.0->llama-index-core<0.11.0,>=0.10.40->llama-index) (2.0.4)\n",
      "Requirement already satisfied: urllib3<3,>=1.21.1 in c:\\users\\ankom\\anaconda3\\lib\\site-packages (from requests>=2.31.0->llama-index-core<0.11.0,>=0.10.40->llama-index) (2.0.7)\n",
      "Requirement already satisfied: greenlet!=0.4.17 in c:\\users\\ankom\\anaconda3\\lib\\site-packages (from SQLAlchemy>=1.4.49->SQLAlchemy[asyncio]>=1.4.49->llama-index-core<0.11.0,>=0.10.40->llama-index) (3.0.1)\n",
      "Requirement already satisfied: colorama in c:\\users\\ankom\\anaconda3\\lib\\site-packages (from tqdm<5.0.0,>=4.66.1->llama-index-core<0.11.0,>=0.10.40->llama-index) (0.4.6)\n",
      "Requirement already satisfied: mypy-extensions>=0.3.0 in c:\\users\\ankom\\anaconda3\\lib\\site-packages (from typing-inspect>=0.8.0->llama-index-core<0.11.0,>=0.10.40->llama-index) (1.0.0)\n",
      "Requirement already satisfied: marshmallow<4.0.0,>=3.18.0 in c:\\users\\ankom\\anaconda3\\lib\\site-packages (from dataclasses-json->llama-index-core<0.11.0,>=0.10.40->llama-index) (3.21.1)\n",
      "Requirement already satisfied: python-dateutil>=2.8.2 in c:\\users\\ankom\\anaconda3\\lib\\site-packages (from pandas->llama-index-core<0.11.0,>=0.10.40->llama-index) (2.8.2)\n",
      "Requirement already satisfied: pytz>=2020.1 in c:\\users\\ankom\\anaconda3\\lib\\site-packages (from pandas->llama-index-core<0.11.0,>=0.10.40->llama-index) (2023.3.post1)\n",
      "Requirement already satisfied: tzdata>=2022.1 in c:\\users\\ankom\\anaconda3\\lib\\site-packages (from pandas->llama-index-core<0.11.0,>=0.10.40->llama-index) (2023.3)\n",
      "Requirement already satisfied: packaging>=17.0 in c:\\users\\ankom\\anaconda3\\lib\\site-packages (from marshmallow<4.0.0,>=3.18.0->dataclasses-json->llama-index-core<0.11.0,>=0.10.40->llama-index) (23.2)\n",
      "Requirement already satisfied: six>=1.5 in c:\\users\\ankom\\anaconda3\\lib\\site-packages (from python-dateutil>=2.8.2->pandas->llama-index-core<0.11.0,>=0.10.40->llama-index) (1.16.0)\n",
      "Downloading llama_index-0.10.40-py3-none-any.whl (6.8 kB)\n",
      "Downloading llama_index_agent_openai-0.2.5-py3-none-any.whl (13 kB)\n",
      "Downloading llama_index_cli-0.1.12-py3-none-any.whl (26 kB)\n",
      "Downloading llama_index_core-0.10.40-py3-none-any.whl (15.4 MB)\n",
      "   ---------------------------------------- 0.0/15.4 MB ? eta -:--:--\n",
      "   ---------------------------------------- 0.1/15.4 MB 2.3 MB/s eta 0:00:07\n",
      "    --------------------------------------- 0.3/15.4 MB 3.1 MB/s eta 0:00:05\n",
      "   - -------------------------------------- 0.5/15.4 MB 4.1 MB/s eta 0:00:04\n",
      "   - -------------------------------------- 0.6/15.4 MB 3.3 MB/s eta 0:00:05\n",
      "   -- ------------------------------------- 1.1/15.4 MB 4.5 MB/s eta 0:00:04\n",
      "   --- ------------------------------------ 1.5/15.4 MB 5.1 MB/s eta 0:00:03\n",
      "   ---- ----------------------------------- 1.8/15.4 MB 5.3 MB/s eta 0:00:03\n",
      "   ----- ---------------------------------- 2.1/15.4 MB 5.3 MB/s eta 0:00:03\n",
      "   ------ --------------------------------- 2.5/15.4 MB 5.8 MB/s eta 0:00:03\n",
      "   -------- ------------------------------- 3.1/15.4 MB 6.7 MB/s eta 0:00:02\n",
      "   -------- ------------------------------- 3.5/15.4 MB 6.7 MB/s eta 0:00:02\n",
      "   ---------- ----------------------------- 4.1/15.4 MB 7.3 MB/s eta 0:00:02\n",
      "   ------------ --------------------------- 4.8/15.4 MB 7.6 MB/s eta 0:00:02\n",
      "   ------------- -------------------------- 5.3/15.4 MB 7.9 MB/s eta 0:00:02\n",
      "   --------------- ------------------------ 5.8/15.4 MB 8.0 MB/s eta 0:00:02\n",
      "   ---------------- ----------------------- 6.5/15.4 MB 8.5 MB/s eta 0:00:02\n",
      "   ----------------- ---------------------- 6.9/15.4 MB 8.6 MB/s eta 0:00:01\n",
      "   ------------------- -------------------- 7.4/15.4 MB 8.7 MB/s eta 0:00:01\n",
      "   -------------------- ------------------- 8.1/15.4 MB 9.0 MB/s eta 0:00:01\n",
      "   ---------------------- ----------------- 8.6/15.4 MB 9.2 MB/s eta 0:00:01\n",
      "   ------------------------ --------------- 9.4/15.4 MB 9.3 MB/s eta 0:00:01\n",
      "   ------------------------- -------------- 9.9/15.4 MB 9.5 MB/s eta 0:00:01\n",
      "   --------------------------- ------------ 10.7/15.4 MB 10.7 MB/s eta 0:00:01\n",
      "   ----------------------------- ---------- 11.3/15.4 MB 11.7 MB/s eta 0:00:01\n",
      "   ------------------------------ --------- 11.8/15.4 MB 11.7 MB/s eta 0:00:01\n",
      "   -------------------------------- ------- 12.4/15.4 MB 12.6 MB/s eta 0:00:01\n",
      "   ---------------------------------- ----- 13.4/15.4 MB 13.4 MB/s eta 0:00:01\n",
      "   ----------------------------------- ---- 13.6/15.4 MB 13.1 MB/s eta 0:00:01\n",
      "   ------------------------------------ --- 14.2/15.4 MB 13.4 MB/s eta 0:00:01\n",
      "   ---------------------------------------  15.2/15.4 MB 13.6 MB/s eta 0:00:01\n",
      "   ---------------------------------------  15.4/15.4 MB 13.6 MB/s eta 0:00:01\n",
      "   ---------------------------------------- 15.4/15.4 MB 12.8 MB/s eta 0:00:00\n",
      "Downloading llama_index_embeddings_openai-0.1.10-py3-none-any.whl (6.2 kB)\n",
      "Downloading llama_index_indices_managed_llama_cloud-0.1.6-py3-none-any.whl (6.7 kB)\n",
      "Downloading llama_index_legacy-0.9.48-py3-none-any.whl (2.0 MB)\n",
      "   ---------------------------------------- 0.0/2.0 MB ? eta -:--:--\n",
      "   ---------------------- ----------------- 1.1/2.0 MB 35.3 MB/s eta 0:00:01\n",
      "   ------------------------------------ --- 1.8/2.0 MB 23.1 MB/s eta 0:00:01\n",
      "   ---------------------------------------- 2.0/2.0 MB 15.8 MB/s eta 0:00:00\n",
      "Downloading llama_index_llms_openai-0.1.21-py3-none-any.whl (11 kB)\n",
      "Downloading llama_index_multi_modal_llms_openai-0.1.6-py3-none-any.whl (5.8 kB)\n",
      "Downloading llama_index_program_openai-0.1.6-py3-none-any.whl (5.2 kB)\n",
      "Downloading llama_index_question_gen_openai-0.1.3-py3-none-any.whl (2.9 kB)\n",
      "Downloading llama_index_readers_file-0.1.23-py3-none-any.whl (36 kB)\n",
      "Downloading llama_index_readers_llama_parse-0.1.4-py3-none-any.whl (2.5 kB)\n",
      "Using cached beautifulsoup4-4.12.3-py3-none-any.whl (147 kB)\n",
      "Downloading Deprecated-1.2.14-py2.py3-none-any.whl (9.6 kB)\n",
      "Downloading dirtyjson-1.0.8-py3-none-any.whl (25 kB)\n",
      "Downloading llama_parse-0.4.4-py3-none-any.whl (8.0 kB)\n",
      "Downloading llamaindex_py_client-0.1.19-py3-none-any.whl (141 kB)\n",
      "   ---------------------------------------- 0.0/141.9 kB ? eta -:--:--\n",
      "   ---------------------------------------- 141.9/141.9 kB 8.2 MB/s eta 0:00:00\n",
      "Downloading striprtf-0.0.26-py3-none-any.whl (6.9 kB)\n",
      "Downloading tqdm-4.66.4-py3-none-any.whl (78 kB)\n",
      "   ---------------------------------------- 0.0/78.3 kB ? eta -:--:--\n",
      "   ---------------------------------------- 78.3/78.3 kB 1.4 MB/s eta 0:00:00\n",
      "Installing collected packages: striprtf, dirtyjson, tqdm, deprecated, beautifulsoup4, llamaindex-py-client, llama-index-legacy, llama-index-core, llama-parse, llama-index-readers-file, llama-index-llms-openai, llama-index-indices-managed-llama-cloud, llama-index-embeddings-openai, llama-index-readers-llama-parse, llama-index-multi-modal-llms-openai, llama-index-cli, llama-index-agent-openai, llama-index-program-openai, llama-index-question-gen-openai, llama-index\n",
      "  Attempting uninstall: tqdm\n",
      "    Found existing installation: tqdm 4.65.0\n",
      "    Uninstalling tqdm-4.65.0:\n",
      "      Successfully uninstalled tqdm-4.65.0\n",
      "  Attempting uninstall: beautifulsoup4\n",
      "    Found existing installation: beautifulsoup4 4.12.2\n",
      "    Uninstalling beautifulsoup4-4.12.2:\n",
      "      Successfully uninstalled beautifulsoup4-4.12.2\n",
      "Successfully installed beautifulsoup4-4.12.3 deprecated-1.2.14 dirtyjson-1.0.8 llama-index-0.10.40 llama-index-agent-openai-0.2.5 llama-index-cli-0.1.12 llama-index-core-0.10.40 llama-index-embeddings-openai-0.1.10 llama-index-indices-managed-llama-cloud-0.1.6 llama-index-legacy-0.9.48 llama-index-llms-openai-0.1.21 llama-index-multi-modal-llms-openai-0.1.6 llama-index-program-openai-0.1.6 llama-index-question-gen-openai-0.1.3 llama-index-readers-file-0.1.23 llama-index-readers-llama-parse-0.1.4 llama-parse-0.4.4 llamaindex-py-client-0.1.19 striprtf-0.0.26 tqdm-4.66.4\n"
     ]
    }
   ],
   "source": [
    "!pip install llama-index"
   ]
  },
  {
   "cell_type": "code",
   "execution_count": 2,
   "id": "b3c94877-cffa-40dd-8a3e-fc6d0a7b634b",
   "metadata": {},
   "outputs": [],
   "source": [
    "import os\n",
    "os.environ[\"OPENAI_API_KEY\"]=\"sk-proj-tlGMZ5LeEJEn7XlLocsTT3BlbkFJGiGWMUSLVcGvxCe0CfPU\""
   ]
  },
  {
   "cell_type": "code",
   "execution_count": 3,
   "id": "2610e02d-943c-4ef5-8146-6bfc9f323ed5",
   "metadata": {},
   "outputs": [],
   "source": [
    "f_path=\"C:\\\\Users\\\\ankom\\\\Downloads\\\\Millimeter-trhz.pdf\""
   ]
  },
  {
   "cell_type": "code",
   "execution_count": 4,
   "id": "6551b7c2-44c1-4ebd-bb5d-e6ef596c23f2",
   "metadata": {},
   "outputs": [],
   "source": [
    "from llama_index.core import SimpleDirectoryReader"
   ]
  },
  {
   "cell_type": "code",
   "execution_count": 5,
   "id": "37183dc2-9340-4061-bfd7-083b005fbc5f",
   "metadata": {},
   "outputs": [],
   "source": [
    "reader=SimpleDirectoryReader(input_files=[f_path])"
   ]
  },
  {
   "cell_type": "code",
   "execution_count": 6,
   "id": "520ee9d4-bad5-46eb-bd01-d0d2c03e4d02",
   "metadata": {},
   "outputs": [],
   "source": [
    "pdf_documents = reader.load_data()"
   ]
  },
  {
   "cell_type": "code",
   "execution_count": 7,
   "id": "bbd61fd9-9bcb-431b-a959-c79cb00bdf55",
   "metadata": {},
   "outputs": [],
   "source": [
    "from llama_index.core  import VectorStoreIndex\n",
    "index = VectorStoreIndex.from_documents(pdf_documents)"
   ]
  },
  {
   "cell_type": "code",
   "execution_count": 8,
   "id": "646a84a6-7ff1-4055-8853-d873c6692e13",
   "metadata": {},
   "outputs": [
    {
     "name": "stdout",
     "output_type": "stream",
     "text": [
      "311.6 GHz\n"
     ]
    }
   ],
   "source": [
    "query_engine = index.as_query_engine()\n",
    "response = query_engine.query(\"what is frequency?\")\n",
    "print(response)"
   ]
  },
  {
   "cell_type": "code",
   "execution_count": 9,
   "id": "aa36d765-4725-4bf7-b77e-150026c8daf8",
   "metadata": {},
   "outputs": [
    {
     "name": "stdout",
     "output_type": "stream",
     "text": [
      "Millimeter waves are electromagnetic waves with wavelengths ranging from 1 millimeter to 10 millimeters, corresponding to frequencies in the range of 30 GHz to 300 GHz. These waves are commonly used in various applications such as high-speed wireless communications, radar systems, and imaging technologies.\n"
     ]
    }
   ],
   "source": [
    "query_engine = index.as_query_engine()\n",
    "response = query_engine.query(\"what is millimeter wave?\")\n",
    "print(response)"
   ]
  },
  {
   "cell_type": "code",
   "execution_count": null,
   "id": "dd093bfe-079e-407d-8eea-215246f14234",
   "metadata": {},
   "outputs": [],
   "source": []
  }
 ],
 "metadata": {
  "kernelspec": {
   "display_name": "Python 3 (ipykernel)",
   "language": "python",
   "name": "python3"
  },
  "language_info": {
   "codemirror_mode": {
    "name": "ipython",
    "version": 3
   },
   "file_extension": ".py",
   "mimetype": "text/x-python",
   "name": "python",
   "nbconvert_exporter": "python",
   "pygments_lexer": "ipython3",
   "version": "3.11.7"
  }
 },
 "nbformat": 4,
 "nbformat_minor": 5
}
