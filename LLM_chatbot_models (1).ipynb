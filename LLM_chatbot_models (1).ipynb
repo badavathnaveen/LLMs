{
 "cells": [
  {
   "cell_type": "code",
   "execution_count": 3,
   "id": "bf7bd335-b2b8-424c-8a57-c59e0945476f",
   "metadata": {},
   "outputs": [],
   "source": [
    "import os\n",
    "os.environ['OPENAI_API_KEY'] = 'sk-proj-DpoAjZyuxsUkMZlX8US1T3BlbkFJh7bBuBpsxe1zX2rqDQMJ'\n"
   ]
  },
  {
   "cell_type": "code",
   "execution_count": 5,
   "id": "d89c24e2-3811-4d3f-85b5-0d8835463be0",
   "metadata": {},
   "outputs": [
    {
     "name": "stdout",
     "output_type": "stream",
     "text": [
      "Collecting openai\n",
      "  Downloading openai-1.30.3-py3-none-any.whl.metadata (21 kB)\n",
      "Requirement already satisfied: anyio<5,>=3.5.0 in c:\\users\\navee\\anaconda3\\lib\\site-packages (from openai) (4.2.0)\n",
      "Requirement already satisfied: distro<2,>=1.7.0 in c:\\users\\navee\\anaconda3\\lib\\site-packages (from openai) (1.8.0)\n",
      "Collecting httpx<1,>=0.23.0 (from openai)\n",
      "  Using cached httpx-0.27.0-py3-none-any.whl.metadata (7.2 kB)\n",
      "Requirement already satisfied: pydantic<3,>=1.9.0 in c:\\users\\navee\\anaconda3\\lib\\site-packages (from openai) (1.10.12)\n",
      "Requirement already satisfied: sniffio in c:\\users\\navee\\anaconda3\\lib\\site-packages (from openai) (1.3.0)\n",
      "Requirement already satisfied: tqdm>4 in c:\\users\\navee\\anaconda3\\lib\\site-packages (from openai) (4.65.0)\n",
      "Requirement already satisfied: typing-extensions<5,>=4.7 in c:\\users\\navee\\anaconda3\\lib\\site-packages (from openai) (4.9.0)\n",
      "Requirement already satisfied: idna>=2.8 in c:\\users\\navee\\anaconda3\\lib\\site-packages (from anyio<5,>=3.5.0->openai) (3.4)\n",
      "Requirement already satisfied: certifi in c:\\users\\navee\\anaconda3\\lib\\site-packages (from httpx<1,>=0.23.0->openai) (2024.2.2)\n",
      "Collecting httpcore==1.* (from httpx<1,>=0.23.0->openai)\n",
      "  Downloading httpcore-1.0.5-py3-none-any.whl.metadata (20 kB)\n",
      "Collecting h11<0.15,>=0.13 (from httpcore==1.*->httpx<1,>=0.23.0->openai)\n",
      "  Using cached h11-0.14.0-py3-none-any.whl.metadata (8.2 kB)\n",
      "Requirement already satisfied: colorama in c:\\users\\navee\\anaconda3\\lib\\site-packages (from tqdm>4->openai) (0.4.6)\n",
      "Downloading openai-1.30.3-py3-none-any.whl (320 kB)\n",
      "   ---------------------------------------- 0.0/320.6 kB ? eta -:--:--\n",
      "   - -------------------------------------- 10.2/320.6 kB ? eta -:--:--\n",
      "   - -------------------------------------- 10.2/320.6 kB ? eta -:--:--\n",
      "   ----------- ---------------------------- 92.2/320.6 kB 1.1 MB/s eta 0:00:01\n",
      "   -------------------- ----------------- 174.1/320.6 kB 952.6 kB/s eta 0:00:01\n",
      "   ---------------------------- ----------- 225.3/320.6 kB 1.1 MB/s eta 0:00:01\n",
      "   ---------------------------- ----------- 225.3/320.6 kB 1.1 MB/s eta 0:00:01\n",
      "   ---------------------------------------- 320.6/320.6 kB 1.0 MB/s eta 0:00:00\n",
      "Using cached httpx-0.27.0-py3-none-any.whl (75 kB)\n",
      "Downloading httpcore-1.0.5-py3-none-any.whl (77 kB)\n",
      "   ---------------------------------------- 0.0/77.9 kB ? eta -:--:--\n",
      "   --------------------- ------------------ 41.0/77.9 kB 991.0 kB/s eta 0:00:01\n",
      "   ---------------------------------------- 77.9/77.9 kB 1.1 MB/s eta 0:00:00\n",
      "Using cached h11-0.14.0-py3-none-any.whl (58 kB)\n",
      "Installing collected packages: h11, httpcore, httpx, openai\n",
      "Successfully installed h11-0.14.0 httpcore-1.0.5 httpx-0.27.0 openai-1.30.3\n",
      "Note: you may need to restart the kernel to use updated packages.\n"
     ]
    }
   ],
   "source": [
    "pip install openai"
   ]
  },
  {
   "cell_type": "code",
   "execution_count": 6,
   "id": "729520e2-5a44-4c05-b827-de420c13f291",
   "metadata": {},
   "outputs": [],
   "source": [
    "from langchain.llms import OpenAI\n",
    "llm = OpenAI()"
   ]
  },
  {
   "cell_type": "code",
   "execution_count": 8,
   "id": "8c39a8e8-b2a8-48d5-96f0-d44918f09baf",
   "metadata": {},
   "outputs": [
    {
     "name": "stdout",
     "output_type": "stream",
     "text": [
      "\n",
      "\n",
      "1. The Great Pyramid of Giza\n",
      "2. The Hanging Gardens of Babylon\n",
      "3. The Temple of Artemis at Ephesus\n",
      "4. The Statue of Zeus at Olympia\n",
      "5. The Mausoleum at Halicarnassus\n",
      "6. The Colossus of Rhodes\n",
      "7. The Lighthouse of Alexandria\n"
     ]
    }
   ],
   "source": [
    "response = llm.invoke(\"List the seven wonders of the world.\")\n",
    "print(response)"
   ]
  },
  {
   "cell_type": "code",
   "execution_count": 9,
   "id": "68b1b0a4-04e8-4e76-99e0-ea0bb8ed5bd0",
   "metadata": {},
   "outputs": [
    {
     "name": "stdout",
     "output_type": "stream",
     "text": [
      "\n",
      "\n",
      "1. The Great Pyramid of Giza\n",
      "2. The Colosseum\n",
      "3. The Taj Mahal\n",
      "4. The Great Wall of China\n",
      "5. Petra\n",
      "6. Christ the Redeemer statue\n",
      "7. Machu Picchu"
     ]
    }
   ],
   "source": [
    "response1 = llm.stream(\"List the seven wonders of the world.\")\n",
    "for i1 in response1:\n",
    "    print(i1,end=\"\",flush=True)"
   ]
  },
  {
   "cell_type": "code",
   "execution_count": null,
   "id": "daadf6c5-104d-4376-8e21-c0bcbf4d1f86",
   "metadata": {},
   "outputs": [],
   "source": []
  },
  {
   "cell_type": "code",
   "execution_count": null,
   "id": "7e81b39f-626f-4e38-9309-df8cd79d8166",
   "metadata": {},
   "outputs": [],
   "source": []
  }
 ],
 "metadata": {
  "kernelspec": {
   "display_name": "Python 3 (ipykernel)",
   "language": "python",
   "name": "python3"
  },
  "language_info": {
   "codemirror_mode": {
    "name": "ipython",
    "version": 3
   },
   "file_extension": ".py",
   "mimetype": "text/x-python",
   "name": "python",
   "nbconvert_exporter": "python",
   "pygments_lexer": "ipython3",
   "version": "3.11.7"
  }
 },
 "nbformat": 4,
 "nbformat_minor": 5
}
