{
 "cells": [
  {
   "cell_type": "code",
   "execution_count": 1,
   "id": "2ab2e073-4f51-436b-ab05-3acc32e0fa8b",
   "metadata": {},
   "outputs": [],
   "source": [
    "import os\n",
    "os.environ['OPENAI_API_KEY'] = ''"
   ]
  },
  {
   "cell_type": "code",
   "execution_count": null,
   "id": "d0783e16-26a9-4804-8502-dd0b8a17835d",
   "metadata": {},
   "outputs": [],
   "source": []
  },
  {
   "cell_type": "code",
   "execution_count": 2,
   "id": "39d62a03-8122-4505-ac4e-2d7c63911c95",
   "metadata": {},
   "outputs": [
    {
     "name": "stderr",
     "output_type": "stream",
     "text": [
      "C:\\Users\\navee\\AppData\\Roaming\\Python\\Python311\\site-packages\\langchain_core\\_api\\deprecation.py:119: LangChainDeprecationWarning: The class `ChatOpenAI` was deprecated in LangChain 0.0.10 and will be removed in 0.2.0. An updated version of the class exists in the langchain-openai package and should be used instead. To use it run `pip install -U langchain-openai` and import as `from langchain_openai import ChatOpenAI`.\n",
      "  warn_deprecated(\n"
     ]
    }
   ],
   "source": [
    "from langchain.chat_models import ChatOpenAI\n",
    "chat = ChatOpenAI()"
   ]
  },
  {
   "cell_type": "code",
   "execution_count": 3,
   "id": "58b09871-4c2c-493d-970a-c6de1c5b9a5b",
   "metadata": {},
   "outputs": [
    {
     "name": "stdout",
     "output_type": "stream",
     "text": [
      "Thermodynamics is a branch of physics that deals with the study of energy and its transformation in physical systems. It focuses on understanding the relationships between heat, work, and energy in various processes. There are four main laws of thermodynamics that form the foundation of this field:\n",
      "\n",
      "1. Zeroth Law of Thermodynamics: This law states that if two systems are each in thermal equilibrium with a third system, then they are in thermal equilibrium with each other. This law establishes the concept of temperature and the basis for temperature measurement.\n",
      "\n",
      "2. First Law of Thermodynamics: Also known as the Law of Conservation of Energy, this law states that energy cannot be created or destroyed, only transformed from one form to another. It defines the relationship between heat, work, and the internal energy of a system.\n",
      "\n",
      "3. Second Law of Thermodynamics: This law states that the total entropy of an isolated system can never decrease over time. It defines the direction of natural processes, indicating that heat will always flow from a warmer object to a cooler one and that systems tend towards disorder or higher entropy.\n",
      "\n",
      "4. Third Law of Thermodynamics: This law states that as the temperature of a system approaches absolute zero (0 Kelvin), the entropy of the system also approaches zero. It establishes the unattainability of absolute zero temperature and provides a reference point for entropy calculations.\n",
      "\n",
      "Thermodynamics plays a crucial role in various fields of science and engineering, including chemistry, biology, and environmental science. It helps in understanding and predicting the behavior of complex systems, such as engines, refrigerators, and chemical reactions. The principles of thermodynamics are essential for designing efficient processes and technologies that involve energy transfer.\n"
     ]
    }
   ],
   "source": [
    "from langchain.schema.messages import HumanMessage, SystemMessage\n",
    "messages = [\n",
    "    SystemMessage(content=\"You are Physics teacher\"),\n",
    "    HumanMessage(content=\"explain about thermodynamics ?\"),\n",
    "]\n",
    "response = chat.invoke(messages)\n",
    "print(response.content)"
   ]
  },
  {
   "cell_type": "code",
   "execution_count": 4,
   "id": "012c0257-09c9-4778-9a7d-43a161202bbf",
   "metadata": {},
   "outputs": [
    {
     "name": "stdout",
     "output_type": "stream",
     "text": [
      "Thermodynamics is a branch of physics that deals with the study of heat and energy transfer, as well as the relationships between different forms of energy. It is a fundamental concept in understanding how energy moves and changes within a system.\n",
      "\n",
      "There are four main laws of thermodynamics that govern the behavior of energy within a system:\n",
      "\n",
      "1. The Zeroth Law of Thermodynamics states that if two systems are in thermal equilibrium with a third system, they are in thermal equilibrium with each other.\n",
      "\n",
      "2. The First Law of Thermodynamics, also known as the Law of Conservation of Energy, states that energy cannot be created or destroyed, only transferred or converted from one form to another.\n",
      "\n",
      "3. The Second Law of Thermodynamics states that the total entropy of an isolated system can never decrease over time, and in a closed system, entropy tends to increase.\n",
      "\n",
      "4. The Third Law of Thermodynamics states that as a system approaches absolute zero temperature, its entropy also approaches a minimum value.\n",
      "\n",
      "Thermodynamics is essential in many areas of science and engineering, such as in the design of engines, refrigeration systems, and chemical reactions. It helps us understand how energy moves and changes within a system, and how to optimize processes to achieve desired outcomes."
     ]
    }
   ],
   "source": [
    "response1 = chat.stream(messages)\n",
    "for i1 in response1:\n",
    "    print(i1.content,end=\"\",flush=True)"
   ]
  },
  {
   "cell_type": "code",
   "execution_count": null,
   "id": "e6af2e41-1b4c-486d-b0f4-07ff465e8b68",
   "metadata": {},
   "outputs": [],
   "source": []
  },
  {
   "cell_type": "code",
   "execution_count": null,
   "id": "9d1268f0-d5ff-4981-aee0-74a2cec2ce10",
   "metadata": {},
   "outputs": [],
   "source": []
  },
  {
   "cell_type": "code",
   "execution_count": null,
   "id": "7bdf0dd3-0557-4b24-931a-e3acd421f86d",
   "metadata": {},
   "outputs": [],
   "source": []
  }
 ],
 "metadata": {
  "kernelspec": {
   "display_name": "Python 3 (ipykernel)",
   "language": "python",
   "name": "python3"
  },
  "language_info": {
   "codemirror_mode": {
    "name": "ipython",
    "version": 3
   },
   "file_extension": ".py",
   "mimetype": "text/x-python",
   "name": "python",
   "nbconvert_exporter": "python",
   "pygments_lexer": "ipython3",
   "version": "3.11.7"
  }
 },
 "nbformat": 4,
 "nbformat_minor": 5
}
