{
 "cells": [
  {
   "cell_type": "code",
   "execution_count": 1,
   "id": "dfda5132",
   "metadata": {},
   "outputs": [
    {
     "name": "stdout",
     "output_type": "stream",
     "text": [
      "Collecting openai==0.28\n",
      "  Downloading openai-0.28.0-py3-none-any.whl.metadata (13 kB)\n",
      "Requirement already satisfied: requests>=2.20 in c:\\users\\navee\\anaconda3\\lib\\site-packages (from openai==0.28) (2.31.0)\n",
      "Requirement already satisfied: tqdm in c:\\users\\navee\\anaconda3\\lib\\site-packages (from openai==0.28) (4.65.0)\n",
      "Requirement already satisfied: aiohttp in c:\\users\\navee\\anaconda3\\lib\\site-packages (from openai==0.28) (3.9.3)\n",
      "Requirement already satisfied: charset-normalizer<4,>=2 in c:\\users\\navee\\anaconda3\\lib\\site-packages (from requests>=2.20->openai==0.28) (2.0.4)\n",
      "Requirement already satisfied: idna<4,>=2.5 in c:\\users\\navee\\anaconda3\\lib\\site-packages (from requests>=2.20->openai==0.28) (3.4)\n",
      "Requirement already satisfied: urllib3<3,>=1.21.1 in c:\\users\\navee\\anaconda3\\lib\\site-packages (from requests>=2.20->openai==0.28) (2.0.7)\n",
      "Requirement already satisfied: certifi>=2017.4.17 in c:\\users\\navee\\anaconda3\\lib\\site-packages (from requests>=2.20->openai==0.28) (2024.2.2)\n",
      "Requirement already satisfied: aiosignal>=1.1.2 in c:\\users\\navee\\anaconda3\\lib\\site-packages (from aiohttp->openai==0.28) (1.2.0)\n",
      "Requirement already satisfied: attrs>=17.3.0 in c:\\users\\navee\\anaconda3\\lib\\site-packages (from aiohttp->openai==0.28) (23.1.0)\n",
      "Requirement already satisfied: frozenlist>=1.1.1 in c:\\users\\navee\\anaconda3\\lib\\site-packages (from aiohttp->openai==0.28) (1.4.0)\n",
      "Requirement already satisfied: multidict<7.0,>=4.5 in c:\\users\\navee\\anaconda3\\lib\\site-packages (from aiohttp->openai==0.28) (6.0.4)\n",
      "Requirement already satisfied: yarl<2.0,>=1.0 in c:\\users\\navee\\anaconda3\\lib\\site-packages (from aiohttp->openai==0.28) (1.9.3)\n",
      "Requirement already satisfied: colorama in c:\\users\\navee\\anaconda3\\lib\\site-packages (from tqdm->openai==0.28) (0.4.6)\n",
      "Downloading openai-0.28.0-py3-none-any.whl (76 kB)\n",
      "   ---------------------------------------- 0.0/76.5 kB ? eta -:--:--\n",
      "   ----- ---------------------------------- 10.2/76.5 kB ? eta -:--:--\n",
      "   ---------------- ----------------------- 30.7/76.5 kB 660.6 kB/s eta 0:00:01\n",
      "   ---------------------------------------- 76.5/76.5 kB 705.4 kB/s eta 0:00:00\n",
      "Installing collected packages: openai\n",
      "  Attempting uninstall: openai\n",
      "    Found existing installation: openai 1.30.3\n",
      "    Uninstalling openai-1.30.3:\n",
      "      Successfully uninstalled openai-1.30.3\n",
      "Successfully installed openai-0.28.0\n",
      "Note: you may need to restart the kernel to use updated packages.\n"
     ]
    }
   ],
   "source": [
    "pip install openai==0.28"
   ]
  },
  {
   "cell_type": "code",
   "execution_count": 6,
   "id": "ccc0440a",
   "metadata": {},
   "outputs": [
    {
     "name": "stdin",
     "output_type": "stream",
     "text": [
      "Enter Video topic:  low budget projects to start in india, related to farming\n"
     ]
    },
    {
     "name": "stderr",
     "output_type": "stream",
     "text": [
      "C:\\Users\\navee\\AppData\\Roaming\\Python\\Python311\\site-packages\\langchain_community\\llms\\openai.py:249: UserWarning: You are trying to use a chat model. This way of initializing it is no longer supported. Instead, please use: `from langchain_community.chat_models import ChatOpenAI`\n",
      "  warnings.warn(\n",
      "C:\\Users\\navee\\AppData\\Roaming\\Python\\Python311\\site-packages\\langchain_community\\llms\\openai.py:1070: UserWarning: You are trying to use a chat model. This way of initializing it is no longer supported. Instead, please use: `from langchain_community.chat_models import ChatOpenAI`\n",
      "  warnings.warn(\n"
     ]
    },
    {
     "name": "stdout",
     "output_type": "stream",
     "text": [
      "Title:\n",
      "If you're looking to start a low-budget farming project in India, you're in the right place! In this video series, we will explore various low-cost projects that you can start on a small scale to kickstart your farming journey.\n",
      "\n",
      "From setting up a small vegetable garden in your backyard to raising chickens or goats, there are plenty of affordable options to get started in the world of farming. We will provide step-by-step guides, tips, and tricks to help you make the most of your resources and maximize your profits.\n",
      "\n",
      "Whether you're a beginner looking to dip your toes into the world of agriculture or a seasoned farmer looking to expand your operations, these low-budget projects are a great way to get started. Stay tuned for our upcoming videos where we will cover everything from choosing the right crops to managing pests and diseases, and everything in between.\n",
      "\n",
      "So grab your shovel and let's get started on your low-budget farming project in India! Subscribe to our channel for more tips and inspiration on how to make the most of your resources and turn your farming dreams into reality.\n",
      "\n",
      "Tweet:\n",
      "\"Ready to start your low-budget farming project in India? 🌱🐓 Check out our video series for step-by-step guides on affordable projects like starting a vegetable garden or raising chickens. Whether you're a beginner or seasoned farmer, we've got you covered! #FarmingIndia\"\n",
      "\n",
      "Title History:\n",
      "Human: low budget projects to start in india, related to farming\n",
      "AI: If you're looking to start a low-budget farming project in India, you're in the right place! In this video series, we will explore various low-cost projects that you can start on a small scale to kickstart your farming journey.\n",
      "\n",
      "From setting up a small vegetable garden in your backyard to raising chickens or goats, there are plenty of affordable options to get started in the world of farming. We will provide step-by-step guides, tips, and tricks to help you make the most of your resources and maximize your profits.\n",
      "\n",
      "Whether you're a beginner looking to dip your toes into the world of agriculture or a seasoned farmer looking to expand your operations, these low-budget projects are a great way to get started. Stay tuned for our upcoming videos where we will cover everything from choosing the right crops to managing pests and diseases, and everything in between.\n",
      "\n",
      "So grab your shovel and let's get started on your low-budget farming project in India! Subscribe to our channel for more tips and inspiration on how to make the most of your resources and turn your farming dreams into reality.\n",
      "\n",
      "Tweet History:\n",
      "Human: If you're looking to start a low-budget farming project in India, you're in the right place! In this video series, we will explore various low-cost projects that you can start on a small scale to kickstart your farming journey.\n",
      "\n",
      "From setting up a small vegetable garden in your backyard to raising chickens or goats, there are plenty of affordable options to get started in the world of farming. We will provide step-by-step guides, tips, and tricks to help you make the most of your resources and maximize your profits.\n",
      "\n",
      "Whether you're a beginner looking to dip your toes into the world of agriculture or a seasoned farmer looking to expand your operations, these low-budget projects are a great way to get started. Stay tuned for our upcoming videos where we will cover everything from choosing the right crops to managing pests and diseases, and everything in between.\n",
      "\n",
      "So grab your shovel and let's get started on your low-budget farming project in India! Subscribe to our channel for more tips and inspiration on how to make the most of your resources and turn your farming dreams into reality.\n",
      "AI: \"Ready to start your low-budget farming project in India? 🌱🐓 Check out our video series for step-by-step guides on affordable projects like starting a vegetable garden or raising chickens. Whether you're a beginner or seasoned farmer, we've got you covered! #FarmingIndia\"\n"
     ]
    }
   ],
   "source": [
    "import os\n",
    "from langchain_community.chat_models import ChatOpenAI\n",
    "# from langchain_community.chat_models import PromptTemplate\n",
    "# from langchain_community.chat_models import LLMChain\n",
    "# from langchain_community.chat_models import ConversationBufferMemory\n",
    "#from langchain.llms import OpenAI\n",
    "from langchain.prompts import PromptTemplate\n",
    "from langchain.chains import LLMChain\n",
    "from langchain.memory import ConversationBufferMemory\n",
    "\n",
    "# Set OpenAI API key\n",
    "os.environ['OPENAI_API_KEY'] = 'sk-proj-RNwVUGV5Ya6T0Mhz0i9ET3BlbkFJC7IlaN8V2p6RYSE6MLFL'  # Add your OpenAI API key here\n",
    "\n",
    "# Simulated user input (replace with actual prompt)\n",
    "prompt = input(\"Enter Video topic: \")\n",
    "\n",
    "# Prompt templates\n",
    "title_template = PromptTemplate(\n",
    "    input_variables=['topic'],\n",
    "    template='write me a  Content to Make youtube Videos about {topic}'\n",
    ")\n",
    "\n",
    "tweet_template = PromptTemplate(\n",
    "    input_variables=['title'],\n",
    "    template='write me a tweet on this title TITLE: {title}'\n",
    ")\n",
    "\n",
    "# Memory buffers\n",
    "title_memory = ConversationBufferMemory(input_key='topic', memory_key='chat_history')\n",
    "tweet_memory = ConversationBufferMemory(input_key='title', memory_key='chat_history')\n",
    "\n",
    "# OpenAI language model\n",
    "llm = OpenAI(model_name=\"gpt-3.5-turbo\", temperature=0.7)\n",
    "title_chain = LLMChain(llm=llm, prompt=title_template, verbose=False, output_key='title', memory=title_memory)\n",
    "tweet_chain = LLMChain(llm=llm, prompt=tweet_template, verbose=False, output_key='script', memory=tweet_memory)\n",
    "\n",
    "# Execute the logic\n",
    "if prompt:\n",
    "    # Simulate running title_chain\n",
    "    title = title_chain.run(prompt)\n",
    "\n",
    "    # Simulate running tweet_chain with outputs\n",
    "    tweet = tweet_chain.run(title=title)\n",
    "\n",
    "    # Display outputs\n",
    "    print(\"Title:\")\n",
    "    print(title)\n",
    "\n",
    "    print(\"\\nTweet:\")\n",
    "    print(tweet)\n",
    "\n",
    "    # Display memory buffers\n",
    "    print(\"\\nTitle History:\")\n",
    "    print(title_memory.buffer)\n",
    "\n",
    "    print(\"\\nTweet History:\")\n",
    "    print(tweet_memory.buffer)\n"
   ]
  },
  {
   "cell_type": "code",
   "execution_count": null,
   "id": "38a240ee",
   "metadata": {},
   "outputs": [],
   "source": []
  }
 ],
 "metadata": {
  "kernelspec": {
   "display_name": "Python 3 (ipykernel)",
   "language": "python",
   "name": "python3"
  },
  "language_info": {
   "codemirror_mode": {
    "name": "ipython",
    "version": 3
   },
   "file_extension": ".py",
   "mimetype": "text/x-python",
   "name": "python",
   "nbconvert_exporter": "python",
   "pygments_lexer": "ipython3",
   "version": "3.11.7"
  }
 },
 "nbformat": 4,
 "nbformat_minor": 5
}
